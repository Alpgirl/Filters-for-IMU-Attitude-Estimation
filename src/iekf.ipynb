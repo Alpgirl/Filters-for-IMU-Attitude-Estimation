{
 "cells": [
  {
   "cell_type": "code",
   "execution_count": null,
   "metadata": {},
   "outputs": [],
   "source": [
    "import numpy as np\n",
    "from filters.iekf import IEKF\n",
    "from tools.objects import Gaussian\n",
    "from tools.plot import plot2dcov\n",
    "import mrob\n",
    "from matplotlib import pyplot as plt"
   ]
  },
  {
   "cell_type": "code",
   "execution_count": null,
   "metadata": {},
   "outputs": [],
   "source": [
    "def ciplot(t, mu, minus_sigma, plus_sigma, x_real, color=None):\n",
    "    \"\"\"\n",
    "    Plots a shaded region on a graph between specified lower and upper confidence intervals (L and U).\n",
    "\n",
    "    :param t: The time series corresponding to the state.\n",
    "    :param mu: The predicted state of the variable.\n",
    "    :param minus_sigma: THe lower bound of the confidence interval.\n",
    "    :param plus_sigma: The upper bound of the confidence interval.\n",
    "    :param x_real: The real value of the state variable.\n",
    "    :param color: Color of the fill inside the lower and upper bound curves (optional).\n",
    "    :return handle: The handle to the plot of the state variable.\n",
    "    \"\"\"\n",
    "\n",
    "    assert minus_sigma.shape[0] == plus_sigma.shape[0]\n",
    "    assert t.shape[0] == mu.shape[0]\n",
    "\n",
    "    plt.fill_between(t, minus_sigma, plus_sigma, color=color, alpha=0.5)\n",
    "    x_pred, = plt.plot(t, mu)\n",
    "    x_real, = plt.plot(t, x_real)\n",
    "\n",
    "    return x_pred, x_real"
   ]
  },
  {
   "cell_type": "code",
   "execution_count": null,
   "metadata": {},
   "outputs": [],
   "source": [
    "a = np.eye(3) @ np.ones(3).reshape(-1, 1)\n",
    "b = np.eye(3) @ np.ones(3).reshape(-1, 1) * 2\n",
    "c = np.eye(3) @ np.ones(3).reshape(-1, 1) * 3"
   ]
  },
  {
   "cell_type": "code",
   "execution_count": null,
   "metadata": {},
   "outputs": [],
   "source": [
    "a"
   ]
  },
  {
   "cell_type": "code",
   "execution_count": null,
   "metadata": {},
   "outputs": [],
   "source": [
    "np.hstack((a,b, c))"
   ]
  },
  {
   "cell_type": "code",
   "execution_count": null,
   "metadata": {},
   "outputs": [],
   "source": [
    "mean_prior = np.array([1., 0, 0.])\n",
    "Sigma_prior = 1e-12 * np.eye(3, 3)\n",
    "M = 1e-8 * np.eye(3, 3)\n",
    "Q = 1e-12 * np.eye(3, 3)\n",
    "initial_state = Gaussian(mean_prior, Sigma_prior)\n",
    "g = np.array([0, 0, -9.81])\n",
    "b = np.array([0.01, 0, 0])"
   ]
  },
  {
   "cell_type": "code",
   "execution_count": null,
   "metadata": {},
   "outputs": [],
   "source": [
    "iekf = IEKF(initial_state, M, Q, g, b)"
   ]
  },
  {
   "cell_type": "code",
   "execution_count": null,
   "metadata": {},
   "outputs": [],
   "source": [
    "iekf.mu_bar"
   ]
  },
  {
   "cell_type": "code",
   "execution_count": null,
   "metadata": {},
   "outputs": [],
   "source": [
    "mrob.geometry.SO3(iekf.mu_bar).Ln()"
   ]
  },
  {
   "cell_type": "code",
   "execution_count": null,
   "metadata": {},
   "outputs": [],
   "source": [
    "plot2dcov(iekf.mu_bar[:-1],\n",
    "            iekf.Sigma_bar[:-1, :-1],\n",
    "            'red', 3,\n",
    "            legend='{} - IEKF')"
   ]
  },
  {
   "cell_type": "code",
   "execution_count": null,
   "metadata": {},
   "outputs": [],
   "source": [
    "plot2dcov(iekf.mu[:-1],\n",
    "            iekf.Sigma[:-1, :-1],\n",
    "            'blue', 3,\n",
    "            legend='{} - IEKF')"
   ]
  },
  {
   "cell_type": "code",
   "execution_count": null,
   "metadata": {},
   "outputs": [],
   "source": [
    "iekf.mu"
   ]
  },
  {
   "cell_type": "code",
   "execution_count": null,
   "metadata": {},
   "outputs": [],
   "source": [
    "u = np.array([0.1, 0, 0])\n",
    "dt = 1"
   ]
  },
  {
   "cell_type": "code",
   "execution_count": null,
   "metadata": {},
   "outputs": [],
   "source": [
    "iekf.predict(u, dt)"
   ]
  },
  {
   "cell_type": "code",
   "execution_count": null,
   "metadata": {},
   "outputs": [],
   "source": [
    "g = np.array([0, 0, -9.81])\n",
    "iekf.update(g)"
   ]
  },
  {
   "cell_type": "code",
   "execution_count": null,
   "metadata": {},
   "outputs": [],
   "source": [
    "mrob.geometry.SO3([1.1, 0, 0]).mul(mrob.geometry.SO3(u*dt))"
   ]
  },
  {
   "cell_type": "code",
   "execution_count": null,
   "metadata": {},
   "outputs": [],
   "source": [
    "plot2dcov(iekf.mu_bar[:-1],\n",
    "            iekf.Sigma_bar[:-1, :-1],\n",
    "            'red', 3,\n",
    "            legend='{} - IEKF')"
   ]
  },
  {
   "cell_type": "code",
   "execution_count": null,
   "metadata": {},
   "outputs": [],
   "source": [
    "mean_prior = np.array([0, 0, 0.])\n",
    "Sigma_prior = 1e1 * np.eye(3, 3)\n",
    "M = 1e0 * np.eye(3, 3)\n",
    "Q = 1e-2 * np.eye(3, 3)\n",
    "initial_state = Gaussian(mean_prior, Sigma_prior)\n",
    "g = np.array([0, 0, -9.81])\n",
    "u_bias = np.array([0, 0.1, 0])\n",
    "iekf = IEKF(initial_state, M, Q, g, u_bias)\n",
    "u = np.array([0.1, 0, 0])\n",
    "dt = 1\n",
    "N = 200\n",
    "preds = np.empty((N, 3))\n",
    "s_preds = np.empty((N, 3, 3))\n",
    "ups = np.empty((N, 3))\n",
    "s_ups = np.empty((N, 3, 3))\n",
    "gt = np.empty((N, 3))\n",
    "Ks = np.empty((N, 3, 3))\n",
    "IVs = np.empty((N, 3))"
   ]
  },
  {
   "cell_type": "code",
   "execution_count": null,
   "metadata": {},
   "outputs": [],
   "source": [
    "for i in range(N):\n",
    "    iekf.predict(u, dt)\n",
    "    Ks[i], IVs[i] = iekf.update(mrob.geometry.SO3(np.random.normal(0, 0.1, 3)).R()@mrob.geometry.SO3(iekf.mu_bar).R().T@g)\n",
    "    preds[i, :] = iekf.mu_bar\n",
    "    s_preds[i] = iekf.Sigma_bar\n",
    "    ups[i] = iekf.mu\n",
    "    s_ups[i] = iekf.Sigma\n",
    "    gt[i] = mrob.geometry.SO3(iekf.mu_bar).Ln() #np.mod(u*(i+1)+np.pi, 2*np.pi) - np.pi"
   ]
  },
  {
   "cell_type": "code",
   "execution_count": null,
   "metadata": {},
   "outputs": [],
   "source": [
    "mrob.geometry.SO3([0.1, 0, 0]).R()"
   ]
  },
  {
   "cell_type": "code",
   "execution_count": null,
   "metadata": {},
   "outputs": [],
   "source": [
    "plt.plot(IVs)"
   ]
  },
  {
   "cell_type": "code",
   "execution_count": null,
   "metadata": {},
   "outputs": [],
   "source": [
    "plt.plot(np.array([Ks[i] @ IVs[i] for i in range(len(Ks))]))"
   ]
  },
  {
   "cell_type": "code",
   "execution_count": null,
   "metadata": {},
   "outputs": [],
   "source": [
    "plt.plot(ups)"
   ]
  },
  {
   "cell_type": "code",
   "execution_count": null,
   "metadata": {},
   "outputs": [],
   "source": [
    "ups"
   ]
  },
  {
   "cell_type": "code",
   "execution_count": null,
   "metadata": {},
   "outputs": [],
   "source": [
    "s_ups"
   ]
  },
  {
   "cell_type": "code",
   "execution_count": null,
   "metadata": {},
   "outputs": [],
   "source": [
    "plt.plot(gt)"
   ]
  },
  {
   "cell_type": "code",
   "execution_count": null,
   "metadata": {},
   "outputs": [],
   "source": [
    "plt.plot(gt - ups)"
   ]
  },
  {
   "cell_type": "code",
   "execution_count": null,
   "metadata": {},
   "outputs": [],
   "source": [
    "def plot_covs(states, covs, state_i, gt):\n",
    "    sigma = np.sqrt(covs[:, state_i, state_i])\n",
    "    minus_sigma = states[:, state_i] - sigma\n",
    "    plus_sigma = states[:, state_i] + sigma\n",
    "    plt.figure(figsize=(14,8))\n",
    "    t = np.array(range(len(states)))\n",
    "    handles = ciplot(t, states[:, state_i], minus_sigma, plus_sigma, gt[:, state_i])\n",
    "\n",
    "\n",
    "    plt.title('Direct Integration of Controls')\n",
    "    plt.legend(handles, ['Estimated angle', 'Ground Truth'])\n",
    "    plt.xlabel('Time')\n",
    "    plt.ylabel('Translational Velocity')\n",
    "    plt.show()"
   ]
  },
  {
   "cell_type": "code",
   "execution_count": null,
   "metadata": {},
   "outputs": [],
   "source": [
    "plot_covs(preds, s_preds, 0, gt)\n",
    "plot_covs(preds, s_preds, 1, gt)\n",
    "plot_covs(preds, s_preds, 2, gt)"
   ]
  },
  {
   "cell_type": "code",
   "execution_count": null,
   "metadata": {},
   "outputs": [],
   "source": [
    "plot_covs(ups, s_ups, 0, gt)\n",
    "plot_covs(ups, s_ups, 1, gt)\n",
    "plot_covs(ups, s_ups, 2, gt)"
   ]
  }
 ],
 "metadata": {
  "kernelspec": {
   "display_name": "base",
   "language": "python",
   "name": "python3"
  },
  "language_info": {
   "codemirror_mode": {
    "name": "ipython",
    "version": 3
   },
   "file_extension": ".py",
   "mimetype": "text/x-python",
   "name": "python",
   "nbconvert_exporter": "python",
   "pygments_lexer": "ipython3",
   "version": "3.12.4"
  }
 },
 "nbformat": 4,
 "nbformat_minor": 2
}
