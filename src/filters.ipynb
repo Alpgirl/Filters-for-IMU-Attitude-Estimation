{
 "cells": [
  {
   "cell_type": "code",
   "execution_count": null,
   "metadata": {},
   "outputs": [],
   "source": [
    "import numpy as np\n",
    "import os\n",
    "from matplotlib import pyplot as plt\n",
    "from filters.filters import IEKF, Madgwick\n",
    "from tools.objects import Gaussian\n",
    "from tools import compare, data_processing, transform, utils\n",
    "from tools.tools_ahrs import plot\n",
    "import mrob"
   ]
  },
  {
   "cell_type": "code",
   "execution_count": null,
   "metadata": {},
   "outputs": [],
   "source": [
    "DATA = \"tum\" # 'tum' or 'record'\n",
    "DOWNSCALE = 1\n",
    "\n",
    "errors = {}"
   ]
  },
  {
   "cell_type": "markdown",
   "metadata": {},
   "source": [
    "# Load Data"
   ]
  },
  {
   "cell_type": "code",
   "execution_count": null,
   "metadata": {},
   "outputs": [],
   "source": [
    "if DATA == 'tum':\n",
    "    x3_path = os.path.join(\"../data\", \"TUM-VI\", \"imu0\")\n",
    "    mocap_path = os.path.join(\"../data\", \"TUM-VI\", \"mocap0\")\n",
    "    take_name = \"outdoors1.csv\"\n",
    "\n",
    "    t_base, data_gyr, data_acc = data_processing.import_tum_imu(os.path.join(x3_path, take_name), smoothing=False)\n",
    "    t_base, data_gyr, data_acc = data_processing.downsample(DOWNSCALE, t_base, data_gyr, data_acc)\n",
    "\n",
    "    freq_tum = 120/DOWNSCALE # Hz\n",
    "\n",
    "    data_mocap_t, data_mocap_q, data_mocap_T = data_processing.import_tum_mocap(os.path.join(mocap_path, take_name), smoothing=False)\n",
    "    data_mocap_t, data_mocap_q, data_mocap_T = data_processing.downsample(DOWNSCALE, data_mocap_t, data_mocap_q, data_mocap_T)\n",
    "\n",
    "    t_base, data_gyr, data_acc, data_acc, data_mocap_q = data_processing.sync_mocap_and_data(data_mocap_t, data_mocap_q, t_base, data_gyr, data_acc, data_acc)\n",
    "\n",
    "else:\n",
    "    x3_path_my = os.path.join(\"../data\", \"X3_simple\", \"Random_walk_2025-03-06_19-02-36.207_TGW\")\n",
    "    # x3_path = \"madgwick_filter/recordings/X3_simple/Standing_still_2025-03-06_18-50-19.416_TGW\"\n",
    "    # x3_path = \"madgwick_filter/recordings/X3_simple/Basic_motions_2025-03-06_18-45-09.848_TGW\"\n",
    "    # x3_path = \"madgwick_filter/recordings/X3_simple/Walking_2025-03-06_18-37-32.144_TGW\"\n",
    "    # x3_path = \"madgwick_filter/recordings/X3_simple/Walking_talking_2025-03-06_18-41-53.764_TGW\"\n",
    "    # x3_path = \"madgwick_filter/recordings/X3_simple/Random_walk_2025-03-06_19-02-36.207_TGW\"\n",
    "\n",
    "    mocap_path_my = os.path.join(\"../data\", \"Mocap_simple\", \"Random_walk_Take 2025-03-06 06.38.58 PM_004.csv\")\n",
    "    # mocap_path = \"madgwick_filter/recordings/Mocap_simple/Standing_still_Take 2025-03-06 06.38.58 PM_003.csv\"\n",
    "    # mocap_path = \"madgwick_filter/recordings/Mocap_simple/Basic_motions_Take 2025-03-06 06.38.58 PM_002.csv\"\n",
    "    # mocap_path = \"madgwick_filter/recordings/Mocap_simple/Walking_Take 2025-03-06 06.38.58 PM.csv\"\n",
    "    # mocap_path = \"madgwick_filter/recordings/Mocap_simple/Walking_talking_Take 2025-03-06 06.38.58 PM_001.csv\"\n",
    "    # mocap_path = \"madgwick_filter/recordings/Mocap_simple/Random_walk_Take 2025-03-06 06.38.58 PM_004.csv\"\n",
    "\n",
    "    freq_record = 100 # Hz\n",
    "\n",
    "    t_base, data_gyr, data_acc, data_magn = data_processing.import_combined_data(os.path.join(x3_path_my, \"combined_imu_data_7.csv\"))\n",
    "    t_base = t_base/1000\n",
    "    data_mocap_t, data_mocap_q = data_processing.import_gamerotvec_data(os.path.join(x3_path_my, \"game_rotation_vector_12.csv\"))\n",
    "    data_mocap_t, data_mocap_q, t_base, data_gyr, data_acc, data_acc= data_processing.trim_to_min_length(data_mocap_t, data_mocap_q, t_base, data_gyr, data_acc, data_acc)"
   ]
  },
  {
   "cell_type": "code",
   "execution_count": null,
   "metadata": {},
   "outputs": [],
   "source": [
    "plot(data_gyr)"
   ]
  },
  {
   "cell_type": "markdown",
   "metadata": {},
   "source": [
    "# Apply filter"
   ]
  },
  {
   "cell_type": "markdown",
   "metadata": {},
   "source": [
    "## IEKF"
   ]
  },
  {
   "cell_type": "code",
   "execution_count": null,
   "metadata": {},
   "outputs": [],
   "source": [
    "mean_prior = np.array([0, 0, 0.])\n",
    "Sigma_prior = 1e1 * np.eye(3, 3)\n",
    "M = 1e-4 * np.eye(3, 3)                                 # rad/s         ~(0.00122 ** 2) from sensors.csv\n",
    "Q = 1e-3 * np.eye(3, 3) * (9.81 ** 2)                   # rads * g^2    ~(0.00239 ** 2) from sensors.csv\n",
    "# worse results with covs from sensors or from np.cov\n",
    "#M = np.diag(np.diag(action_cov))\n",
    "#Q = np.diag(np.diag(measurement_cov))\n",
    "initial_state = Gaussian(mean_prior, Sigma_prior)\n",
    "g = np.array([0, 0, -9.81])\n",
    "u_bias = np.array([0, 0, 0.000])\n",
    "iekf = IEKF(initial_state, M, Q, g, u_bias)\n",
    "u = data_gyr\n",
    "N = len(data_gyr)\n",
    "dts = np.empty(N)\n",
    "freq_sm = 200\n",
    "dts[0] = 1/freq_sm\n",
    "dts[1:] = np.array([t_base[i+1] - t_base[i] for i in range(N-1)])\n",
    "preds = np.empty((N, 3))\n",
    "s_preds = np.empty((N, 3, 3))\n",
    "ups = np.empty((N, 3))\n",
    "s_ups = np.empty((N, 3, 3))\n",
    "Ks = np.empty((N, 3, 3))\n",
    "IVs = np.empty((N, 3))\n",
    "gt = transform.quats_to_rpy(data_mocap_q)\n",
    "\n",
    "for i in range(N):\n",
    "    iekf.predict(u[i], dts[i])\n",
    "    Ks[i], IVs[i] = iekf.update(data_acc[i])\n",
    "    #iekf.update_fake()\n",
    "    preds[i, :] = iekf.mu_bar\n",
    "    s_preds[i] = iekf.Sigma_bar\n",
    "    ups[i] = iekf.mu\n",
    "    s_ups[i] = iekf.Sigma"
   ]
  },
  {
   "cell_type": "code",
   "execution_count": null,
   "metadata": {},
   "outputs": [],
   "source": [
    "compare.plot_covs(ups, s_ups, 0, gt)\n",
    "compare.plot_covs(ups, s_ups, 1, gt)\n",
    "compare.plot_covs(ups, s_ups, 2, gt)\n",
    "plot(ups - gt)"
   ]
  },
  {
   "cell_type": "code",
   "execution_count": null,
   "metadata": {},
   "outputs": [],
   "source": [
    "(errors[\"iekf_rpy_ape_mean\"], errors[\"iekf_rpy_ape_std\"], errors[\"iekf_rpy_ape_rmse\"],\n",
    "errors[\"iekf_rpy_ape_g_mean\"], errors[\"iekf_rpy_ape_g_std\"], errors[\"iekf_rpy_ape_g_rmse\"],\n",
    "errors[\"iekf_rpy_rpe_mean\"], errors[\"iekf_rpy_rpe_std\"], errors[\"iekf_rpy_rpe_rmse\"],\n",
    "errors[\"iekf_rpy_rpe_g_mean\"], errors[\"iekf_rpy_rpe_g_std\"], errors[\"iekf_rpy_rpe_g_rmse\"]) = compare.errors_estimation_rpy(gt, ups)"
   ]
  },
  {
   "cell_type": "code",
   "execution_count": null,
   "metadata": {},
   "outputs": [],
   "source": [
    "print(errors[\"iekf_rpy_ape_mean\"])\n",
    "print(errors[\"iekf_rpy_ape_std\"])\n",
    "print(errors[\"iekf_rpy_ape_rmse\"])"
   ]
  },
  {
   "cell_type": "code",
   "execution_count": null,
   "metadata": {},
   "outputs": [],
   "source": [
    "q1 = transform.rpy_to_quats(gt)\n",
    "q2 = transform.rpy_to_quats(ups)\n",
    "\n",
    "(errors[\"iekf_quat_ape_mean\"], errors[\"iekf_quat_ape_std\"], errors[\"iekf_quat_ape_rmse\"],\n",
    "errors[\"iekf_quat_ape_g_mean\"], errors[\"iekf_quat_ape_g_std\"], errors[\"iekf_quat_ape_g_rmse\"],\n",
    "errors[\"iekf_quat_rpe_mean\"], errors[\"iekf_quat_rpe_std\"], errors[\"iekf_quat_rpe_rmse\"],\n",
    "errors[\"iekf_quat_rpe_g_mean\"], errors[\"iekf_quat_rpe_g_std\"], errors[\"iekf_quat_rpe_g_rmse\"]) = compare.errors_estimation(q1, q2)"
   ]
  },
  {
   "cell_type": "code",
   "execution_count": null,
   "metadata": {},
   "outputs": [],
   "source": [
    "errors[\"iekf_quat_ape_mean\"]\n",
    "errors[\"iekf_quat_ape_std\"]\n",
    "errors[\"iekf_quat_ape_rmse\"]"
   ]
  },
  {
   "cell_type": "markdown",
   "metadata": {},
   "source": [
    "## Madgwick"
   ]
  },
  {
   "cell_type": "code",
   "execution_count": null,
   "metadata": {},
   "outputs": [],
   "source": [
    "# i_start = 0\n",
    "# t_base, data_gyr, data_acc, data_mocap_t, data_mocap_q = data_processing.arrays_from_i(i_start, t_base, data_gyr, data_acc, data_mocap_t, data_mocap_q)\n",
    "\n",
    "madgwick_filter = Madgwick()\n",
    "madgwick_result = madgwick_filter.apply(data_gyr=data_gyr,\n",
    "                      data_acc=data_acc,\n",
    "                      freq=freq_tum if DATA==\"tum\" else freq_record)\n"
   ]
  },
  {
   "cell_type": "code",
   "execution_count": null,
   "metadata": {},
   "outputs": [],
   "source": [
    "plot(data_mocap_q, madgwick_result.Q)"
   ]
  },
  {
   "cell_type": "code",
   "execution_count": null,
   "metadata": {},
   "outputs": [],
   "source": [
    "(errors[\"madgwick_quat_ape_mean\"], errors[\"madgwick_quat_ape_std\"], errors[\"madgwick_quat_ape_rmse\"],\n",
    "errors[\"madgwick_quat_ape_g_mean\"], errors[\"madgwick_quat_ape_g_std\"], errors[\"madgwick_quat_ape_g_rmse\"],\n",
    "errors[\"madgwick_quat_rpe_mean\"], errors[\"madgwick_quat_rpe_std\"], errors[\"madgwick_quat_rpe_rmse\"],\n",
    "errors[\"madgwick_quat_rpe_g_mean\"], errors[\"madgwick_quat_rpe_g_std\"], errors[\"madgwick_quat_rpe_g_rmse\"]) = compare.errors_estimation(madgwick_result.Q, data_mocap_q, source1=\"sensors\")"
   ]
  },
  {
   "cell_type": "code",
   "execution_count": null,
   "metadata": {},
   "outputs": [],
   "source": [
    "rpy_sm_aligned = transform.quats_to_rpy(madgwick_result.Q)\n",
    "rpy_mocap_aligned = transform.quats_to_rpy(data_mocap_q)\n",
    "(errors[\"madgwick_rpy_ape_mean\"], errors[\"madgwick_rpy_ape_std\"], errors[\"madgwick_rpy_ape_rmse\"],\n",
    "errors[\"madgwick_rpy_ape_g_mean\"], errors[\"madgwick_rpy_ape_g_std\"], errors[\"madgwick_rpy_ape_g_rmse\"],\n",
    "errors[\"madgwick_rpy_rpe_mean\"], errors[\"madgwick_rpy_rpe_std\"], errors[\"madgwick_rpy_rpe_rmse\"],\n",
    "errors[\"madgwick_rpy_rpe_g_mean\"], errors[\"madgwick_rpy_rpe_g_std\"], errors[\"madgwick_rpy_rpe_g_rmse\"]) = compare.errors_estimation_rpy(rpy_sm_aligned, rpy_mocap_aligned, source1=\"sensors\")"
   ]
  },
  {
   "cell_type": "markdown",
   "metadata": {},
   "source": [
    "# Errors"
   ]
  },
  {
   "cell_type": "code",
   "execution_count": null,
   "metadata": {},
   "outputs": [],
   "source": [
    "errors"
   ]
  }
 ],
 "metadata": {
  "kernelspec": {
   "display_name": "Python 3",
   "language": "python",
   "name": "python3"
  },
  "language_info": {
   "codemirror_mode": {
    "name": "ipython",
    "version": 3
   },
   "file_extension": ".py",
   "mimetype": "text/x-python",
   "name": "python",
   "nbconvert_exporter": "python",
   "pygments_lexer": "ipython3",
   "version": "3.12.4"
  }
 },
 "nbformat": 4,
 "nbformat_minor": 2
}
