{
 "cells": [
  {
   "cell_type": "code",
   "execution_count": 2,
   "metadata": {},
   "outputs": [],
   "source": [
    "import numpy as np\n",
    "import os\n",
    "from matplotlib import pyplot as plt\n",
    "from filters.filters import IEKF\n",
    "from tools.objects import Gaussian\n",
    "from tools import compare, data_processing, transform, utils\n",
    "from tools.tools_ahrs import plot\n",
    "import mrob"
   ]
  },
  {
   "cell_type": "code",
   "execution_count": 3,
   "metadata": {},
   "outputs": [],
   "source": [
    "x3_path = os.path.join(\"../data\", \"TUM-VI\", \"imu0\")\n",
    "mocap_path = os.path.join(\"../data\", \"TUM-VI\", \"mocap0\")\n",
    "take_name = \"outdoors1.csv\""
   ]
  },
  {
   "cell_type": "code",
   "execution_count": 4,
   "metadata": {},
   "outputs": [],
   "source": [
    "t_base, data_gyr, data_acc = data_processing.import_tum_imu(os.path.join(x3_path, take_name), smoothing=False)"
   ]
  },
  {
   "cell_type": "code",
   "execution_count": 5,
   "metadata": {},
   "outputs": [],
   "source": [
    "downscale = 1\n",
    "t_base, data_gyr, data_acc = data_processing.downsample(downscale, t_base, data_gyr, data_acc)"
   ]
  },
  {
   "cell_type": "code",
   "execution_count": 6,
   "metadata": {},
   "outputs": [],
   "source": [
    "freq_my = 120/downscale # Hz\n",
    "# if frequency of MoCap is lower than resulting from data - change to MoCap's 240 Hz"
   ]
  },
  {
   "cell_type": "code",
   "execution_count": 7,
   "metadata": {},
   "outputs": [],
   "source": [
    "data_mocap_t, data_mocap_q, data_mocap_T = data_processing.import_tum_mocap(os.path.join(mocap_path, take_name), smoothing=False)"
   ]
  },
  {
   "cell_type": "code",
   "execution_count": 8,
   "metadata": {},
   "outputs": [],
   "source": [
    "data_mocap_t, data_mocap_q, data_mocap_T = data_processing.downsample(downscale, data_mocap_t, data_mocap_q, data_mocap_T)"
   ]
  },
  {
   "cell_type": "code",
   "execution_count": 9,
   "metadata": {},
   "outputs": [],
   "source": [
    "t_base, data_gyr, data_acc, data_acc, data_mocap_q = data_processing.sync_mocap_and_data(data_mocap_t, data_mocap_q, t_base, data_gyr, data_acc, data_acc)"
   ]
  },
  {
   "cell_type": "code",
   "execution_count": null,
   "metadata": {},
   "outputs": [],
   "source": [
    "plot(data_gyr)"
   ]
  },
  {
   "cell_type": "code",
   "execution_count": null,
   "metadata": {},
   "outputs": [],
   "source": [
    "data_mocap_angvel = transform.quats_to_angvels(data_mocap_t, data_mocap_q)\n",
    "action_cov = utils.calc_cov(data_gyr[:-1], data_mocap_angvel)\n",
    "print(action_cov)"
   ]
  },
  {
   "cell_type": "code",
   "execution_count": null,
   "metadata": {},
   "outputs": [],
   "source": [
    "g = np.array([0, 0, -9.81])\n",
    "data_mocap_acc = np.array([np.linalg.inv(mrob.quat_to_so3(data_mocap_q[i])) @ g for i in range(len(data_mocap_q))])\n",
    "start = 0000\n",
    "end = 2000\n",
    "measurement_cov = utils.calc_cov(data_acc[start:end], data_mocap_acc[start:end])\n",
    "plot(data_acc, data_mocap_acc, data_acc - data_mocap_acc)\n",
    "print(measurement_cov)"
   ]
  },
  {
   "cell_type": "markdown",
   "metadata": {},
   "source": [
    "# Not so good results with these covs"
   ]
  },
  {
   "cell_type": "code",
   "execution_count": null,
   "metadata": {},
   "outputs": [],
   "source": [
    "\n",
    "x3_path_my = os.path.join(\"data\", \"X3_simple\", \"Random_walk_2025-03-06_19-02-36.207_TGW\")\n",
    "# x3_path = \"madgwick_filter/recordings/X3_simple/Standing_still_2025-03-06_18-50-19.416_TGW\"\n",
    "# x3_path = \"madgwick_filter/recordings/X3_simple/Basic_motions_2025-03-06_18-45-09.848_TGW\"\n",
    "# x3_path = \"madgwick_filter/recordings/X3_simple/Walking_2025-03-06_18-37-32.144_TGW\"\n",
    "# x3_path = \"madgwick_filter/recordings/X3_simple/Walking_talking_2025-03-06_18-41-53.764_TGW\"\n",
    "# x3_path = \"madgwick_filter/recordings/X3_simple/Random_walk_2025-03-06_19-02-36.207_TGW\"\n",
    "\n",
    "mocap_path_my = os.path.join(\"data\", \"Mocap_simple\", \"Random_walk_Take 2025-03-06 06.38.58 PM_004.csv\")\n",
    "# mocap_path = \"madgwick_filter/recordings/Mocap_simple/Standing_still_Take 2025-03-06 06.38.58 PM_003.csv\"\n",
    "# mocap_path = \"madgwick_filter/recordings/Mocap_simple/Basic_motions_Take 2025-03-06 06.38.58 PM_002.csv\"\n",
    "# mocap_path = \"madgwick_filter/recordings/Mocap_simple/Walking_Take 2025-03-06 06.38.58 PM.csv\"\n",
    "# mocap_path = \"madgwick_filter/recordings/Mocap_simple/Walking_talking_Take 2025-03-06 06.38.58 PM_001.csv\"\n",
    "# mocap_path = \"madgwick_filter/recordings/Mocap_simple/Random_walk_Take 2025-03-06 06.38.58 PM_004.csv\"\n"
   ]
  },
  {
   "cell_type": "code",
   "execution_count": null,
   "metadata": {},
   "outputs": [],
   "source": [
    "import_myrecording = False\n",
    "if import_myrecording:\n",
    "    t_base, data_gyr, data_acc, data_magn = data_processing.import_combined_data(os.path.join(x3_path_my, \"combined_imu_data_7.csv\"))\n",
    "    t_base = t_base/1000\n",
    "    data_mocap_t, data_mocap_q = data_processing.import_gamerotvec_data(os.path.join(x3_path_my, \"game_rotation_vector_12.csv\"))\n",
    "    data_mocap_t, data_mocap_q, t_base, data_gyr, data_acc, data_acc= data_processing.trim_to_min_length(data_mocap_t, data_mocap_q, t_base, data_gyr, data_acc, data_acc)"
   ]
  },
  {
   "cell_type": "code",
   "execution_count": null,
   "metadata": {},
   "outputs": [],
   "source": [
    "plot(data_mocap_q)"
   ]
  },
  {
   "cell_type": "code",
   "execution_count": null,
   "metadata": {},
   "outputs": [],
   "source": [
    "plot(data_mocap_t - data_mocap_t[0])"
   ]
  },
  {
   "cell_type": "code",
   "execution_count": null,
   "metadata": {},
   "outputs": [],
   "source": [
    "mean_prior = np.array([0, 0, 0.])\n",
    "Sigma_prior = 1e1 * np.eye(3, 3)\n",
    "M = 1e-4 * np.eye(3, 3)                                 # rad/s         ~(0.00122 ** 2) from sensors.csv\n",
    "Q = 1e-3 * np.eye(3, 3) * (9.81 ** 2)                   # rads * g^2    ~(0.00239 ** 2) from sensors.csv\n",
    "# worse results with covs from sensors or from np.cov\n",
    "#M = np.diag(np.diag(action_cov))\n",
    "#Q = np.diag(np.diag(measurement_cov))\n",
    "initial_state = Gaussian(mean_prior, Sigma_prior)\n",
    "g = np.array([0, 0, -9.81])\n",
    "u_bias = np.array([0, 0, 0.000])\n",
    "iekf = IEKF(initial_state, M, Q, g, u_bias)\n",
    "u = data_gyr\n",
    "N = len(data_gyr)\n",
    "dts = np.empty(N)\n",
    "freq_sm = 200\n",
    "dts[0] = 1/freq_sm\n",
    "dts[1:] = np.array([t_base[i+1] - t_base[i] for i in range(N-1)])\n",
    "preds = np.empty((N, 3))\n",
    "s_preds = np.empty((N, 3, 3))\n",
    "ups = np.empty((N, 3))\n",
    "s_ups = np.empty((N, 3, 3))\n",
    "Ks = np.empty((N, 3, 3))\n",
    "IVs = np.empty((N, 3))\n",
    "gt = transform.quats_to_rpy(data_mocap_q)"
   ]
  },
  {
   "cell_type": "code",
   "execution_count": null,
   "metadata": {},
   "outputs": [],
   "source": [
    "for i in range(N):\n",
    "    iekf.predict(u[i], dts[i])\n",
    "    Ks[i], IVs[i] = iekf.update(data_acc[i])\n",
    "    #iekf.update_fake()\n",
    "    preds[i, :] = iekf.mu_bar\n",
    "    s_preds[i] = iekf.Sigma_bar\n",
    "    ups[i] = iekf.mu\n",
    "    s_ups[i] = iekf.Sigma"
   ]
  },
  {
   "cell_type": "code",
   "execution_count": null,
   "metadata": {},
   "outputs": [],
   "source": [
    "print(iekf.Sigma_bar)"
   ]
  },
  {
   "cell_type": "code",
   "execution_count": null,
   "metadata": {},
   "outputs": [],
   "source": [
    "compare.plot_covs(ups, s_ups, 0, gt)\n",
    "compare.plot_covs(ups, s_ups, 1, gt)\n",
    "compare.plot_covs(ups, s_ups, 2, gt)\n",
    "plot(ups - gt)"
   ]
  },
  {
   "cell_type": "code",
   "execution_count": null,
   "metadata": {},
   "outputs": [],
   "source": [
    "q1 = transform.rpy_to_quats(gt)\n",
    "q2 = transform.rpy_to_quats(ups)\n",
    "plot(q1 - q2)"
   ]
  },
  {
   "cell_type": "code",
   "execution_count": null,
   "metadata": {},
   "outputs": [],
   "source": [
    "compare.errors_estimation(q1, q2)"
   ]
  },
  {
   "cell_type": "code",
   "execution_count": null,
   "metadata": {},
   "outputs": [],
   "source": [
    "compare.errors_estimation_rpy(gt, ups)"
   ]
  }
 ],
 "metadata": {
  "kernelspec": {
   "display_name": "Python 3",
   "language": "python",
   "name": "python3"
  },
  "language_info": {
   "codemirror_mode": {
    "name": "ipython",
    "version": 3
   },
   "file_extension": ".py",
   "mimetype": "text/x-python",
   "name": "python",
   "nbconvert_exporter": "python",
   "pygments_lexer": "ipython3",
   "version": "3.11.5"
  }
 },
 "nbformat": 4,
 "nbformat_minor": 2
}
